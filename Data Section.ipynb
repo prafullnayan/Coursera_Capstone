{
 "cells": [
  {
   "cell_type": "markdown",
   "metadata": {},
   "source": [
    "# 2. Data"
   ]
  },
  {
   "cell_type": "markdown",
   "metadata": {},
   "source": [
    "## 2.1 Data Sources"
   ]
  },
  {
   "cell_type": "markdown",
   "metadata": {},
   "source": [
    ">To get location and other information about various venues in the western part of Pune, a combination \n",
    "of data from the 2 API sources will be used together. \n",
    "1. Using the Four square’s explore API (which gives venues recommendations), I fetched venues up \n",
    "to a range of 4 kilometresfrom the centre of Wakad, i.e. the heart of West Pune and their names, \n",
    "categories and locations (latitude and longitude) will be collected.\n",
    "\n",
    ">Using the name, latitude and longitude values, Zomato search API will be used to fetch venues from \n",
    "its database. This API allows us to find venues based on search criteria (usually the name), latitude \n",
    "and longitude values and more."
   ]
  },
  {
   "cell_type": "markdown",
   "metadata": {},
   "source": [
    "## 2.2 Data Cleaning"
   ]
  },
  {
   "cell_type": "markdown",
   "metadata": {},
   "source": [
    ">Data collected from the 2 data sources, will be cleaned to extract the following vital information and \n",
    "then be used to solve the problem.\n",
    ">\n",
    "\n",
    ">From Foursquare API (https://developers.zomato.com/api), we will retrieve the following information\n",
    "for each venue:\n",
    ">\n",
    ">• Name: The name of the venue. <br>\n",
    ">• Category: The category type as defined by the API.<br> \n",
    ">• Latitude: The latitude value of the venue. <br>\n",
    ">• Longitude: The longitude value of the venue.<br>"
   ]
  },
  {
   "cell_type": "markdown",
   "metadata": {},
   "source": [
    ">From <b>Zomato API</b> (https://developers.zomato.com/api), we will retrieve the following for each venue: \n",
    ">\n",
    "• Name: The name of the venue. <br>\n",
    "• Address: The complete address of the venue. <br>\n",
    "• Rating: The ratings as provided by many users. <br>\n",
    "• Price range: The price range the venue belongs to as defined by Zomato.<br> \n",
    "• Price for two: The average cost for two people dining at the place. <br>\n",
    "• Latitude: The latitude value of the venue. \n",
    "• Longitude: The longitude value of the venue."
   ]
  }
 ],
 "metadata": {
  "kernelspec": {
   "display_name": "Python 3",
   "language": "python",
   "name": "python3"
  },
  "language_info": {
   "codemirror_mode": {
    "name": "ipython",
    "version": 3
   },
   "file_extension": ".py",
   "mimetype": "text/x-python",
   "name": "python",
   "nbconvert_exporter": "python",
   "pygments_lexer": "ipython3",
   "version": "3.7.4"
  }
 },
 "nbformat": 4,
 "nbformat_minor": 2
}
