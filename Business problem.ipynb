{
 "cells": [
  {
   "cell_type": "markdown",
   "metadata": {},
   "source": [
    "# Coursera Capstone Project Summary\n",
    " ## 1. Problem\n",
    "          \n",
    "   "
   ]
  },
  {
   "cell_type": "markdown",
   "metadata": {},
   "source": [
    "  ### 1.1 Description"
   ]
  },
  {
   "cell_type": "markdown",
   "metadata": {},
   "source": [
    "## Exploring venues in Pune West, India using Foursquare and Zomato API"
   ]
  },
  {
   "cell_type": "markdown",
   "metadata": {},
   "source": [
    "## Business Problem"
   ]
  },
  {
   "cell_type": "markdown",
   "metadata": {},
   "source": [
    "> <b>Prafull Nayan 29 june 2020</b>\n",
    "\n",
    ">Pune is one of the biggest IT hubs in India and Hinjewadi is an IT park, where most of the companies \n",
    "have their offices, belongs to the western part of Pune. Whenever a person moves to the city for a \n",
    "job, such a person searches for a venue in a new city, they’re highly interested in the best places that \n",
    "the city has to offer. The person might want to know how good a given restaurant is or the price range \n",
    "it falls under. This extra information would help decide which venue to choose amongst the many \n",
    "venues in the city. Combining the location of the venues in the city with their price and rating \n",
    "information would surely help visitors in a city make better informed decisions about the places they \n",
    "should visit."
   ]
  },
  {
   "cell_type": "markdown",
   "metadata": {},
   "source": [
    ">In Pune West, are many venues (especially restaurants, hotels and cafes) which can be explored. This \n",
    "project explores various venues in Pune and attributes the data based on user ratings and average \n",
    "price. To explore this information, this project involves the data from both the Foursquare API and the \n",
    "Zomato API to fetch complete information of various venues (including name, address, category, \n",
    "rating, and price). Further, a map of the venues with specific colour attributes will be plotted to \n",
    "highlight their position, and information about these venues. Such plots imbibe bountiful information \n",
    "in the form of their coloured representations and location on the map. This enables any visitor to take \n",
    "a quick glance and decide what place to visit."
   ]
  },
  {
   "cell_type": "markdown",
   "metadata": {},
   "source": [
    "## 1.2 Interested Audience"
   ]
  },
  {
   "cell_type": "markdown",
   "metadata": {},
   "source": [
    ">The target audience for such a project is twofold. Firstly, any person who is visiting Pune, India can \n",
    "use the plots and maps from this project to quickly select places that suit their budget and rating \n",
    "preferences. Secondly, a company can use this information to create a website or a mobile application, \n",
    "which is updated on a regular basis, to allow individuals to the city or even expand same functionality \n",
    "to other places."
   ]
  },
  {
   "cell_type": "markdown",
   "metadata": {},
   "source": []
  }
 ],
 "metadata": {
  "kernelspec": {
   "display_name": "Python 3",
   "language": "python",
   "name": "python3"
  },
  "language_info": {
   "codemirror_mode": {
    "name": "ipython",
    "version": 3
   },
   "file_extension": ".py",
   "mimetype": "text/x-python",
   "name": "python",
   "nbconvert_exporter": "python",
   "pygments_lexer": "ipython3",
   "version": "3.7.4"
  }
 },
 "nbformat": 4,
 "nbformat_minor": 2
}
