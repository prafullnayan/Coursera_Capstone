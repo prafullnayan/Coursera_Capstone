{
 "cells": [
  {
   "cell_type": "markdown",
   "metadata": {},
   "source": [
    "# Final Report"
   ]
  },
  {
   "cell_type": "markdown",
   "metadata": {},
   "source": [
    "# Exploring Venues in Pune West"
   ]
  },
  {
   "cell_type": "markdown",
   "metadata": {},
   "source": [
    "## Table of Contents\n",
    "\n",
    "* [Introduction](#introduction)\n",
    "* [Data Collection from APIs](#data_collection)\n",
    "* [Data Cleaning](#data_cleaning)\n",
    "* [Methodolgy](#methodology)\n",
    "* [Analysis](#analysis)\n",
    "* [Results and Discussion](#results)\n",
    "* [Conclusion](#conclusion)"
   ]
  },
  {
   "cell_type": "markdown",
   "metadata": {},
   "source": [
    "## Introduction <a name=\"introduction\"></a>\n",
    "\n",
    "The aim of the project is to identify venues in Pune, India based on their rating and average prices. In this notebook, we will identify various venues in the city of **Pune, India**, using **Foursquare API** and **Zomato API**, to help visitors select the restaurants that suit them the best.\n",
    "\n",
    "Whenever a user is visiting a city they start looking for places to visit during their stay. They primarily look for places based on the venue ratings across all venues and the average prices such that the locations fits in their budget.\n",
    "\n",
    "Here, we'll **identify places that are fit for various individuals** based on the information collected from the two APIs and Data Science. Once we have the plot with the venues, any company can launch an application using the same data and suggest users such information."
   ]
  },
  {
   "cell_type": "markdown",
   "metadata": {},
   "source": [
    "## Data Collection from APIs <a name=\"data_collection\"></a>\n",
    "\n",
    "To begin with, we will take a look at **Pune on the Map** using the `folium` library.\n",
    "\n",
    "We will also fetch the data from **two different APIs**.\n",
    "* **Foursquare API:** We will use the Foursquare API to fetch venues in Pune starting from the middle upto 44 Kilometers in each direction.\n",
    "* **Zomato API:** The Zomato API provides information about various venues including the complete address, user ratings, price for two people, price range and a lot more."
   ]
  },
  {
   "cell_type": "markdown",
   "metadata": {},
   "source": [
    "### Pune\n",
    "\n",
    "**Pune** is composed of a number of sectors spread across a total area of 150 sq Km. There are many venues (especially restaurants, hotels and cafes) which can be explored.\n",
    "\n",
    "We can use the `geopy` library to extract the latitude and longitude values of Pune but it seems off and thus, we'll directly supply the values in this case."
   ]
  },
  {
   "cell_type": "markdown",
   "metadata": {},
   "source": [
    "## Methodology <a name=\"methodology\"></a>\n",
    "\n",
    "This project aims at identifying the venues in Pune based on their rating and average costs. This would enable any visitor to identify the venues he/she wants to visit based on their rating and cost preference.\n",
    "\n",
    "As a first step, we retrieved the **data from two APIs (Foursquare and Zomato)**. We extract venue information from the center of Pune, upto a distance of 4 Km. The latitude and longitude values are then used to fetch venue rating and price from Zomato.\n",
    "\n",
    "Secondly, we then **explored the data** retrieved from the two APIs on the map and identified the top category types. The **data from the two sources is carefully combined** based on the name, latitude and longitude values from the two sources. The final dataset would include the rating and price values for each venue.\n",
    "\n",
    "Next, we'll **analyse the data** that we created based on the ratings and price of each venue. We'll **identify places where many venues are located** so that any visitor can go to one place and enjoy the option to choose amongst many venue options. We'll also explore **areas that are high rated and those that are low rated** while also plotting the **map of high and low priced venues**. Lastly, we'll **cluster the venues** based on the available information of each venue. This will allow us to clearly identify which venues can be recommended and with what characteristics.\n",
    "\n",
    "Finally, we'll discuss and conclude which venues to be explored based on visitor requirement of rating and cost."
   ]
  },
  {
   "cell_type": "markdown",
   "metadata": {},
   "source": [
    "## Analysis <a name=\"analysis\"></a>\n",
    "## category\n",
    "\n",
    "The complete dataset is now in its final form. \n",
    "\n",
    "We will **inspect these venues based on their rating**. The rating of a venue are based on user reviews and belongs to a range from 1 to 5. We'll also **analyse the venues based on their price per person as well as the price range**. "
   ]
  },
  {
   "cell_type": "markdown",
   "metadata": {},
   "source": [
    "<img src=\"image1.jpg\">"
   ]
  },
  {
   "cell_type": "markdown",
   "metadata": {},
   "source": [
    "### Rating\n",
    "\n",
    "Rating of a venue is an important factor on which a visitor decides whether it is worth it to visit the place. To cater to this, we will first see what is the average rating for all the venues in the city. Next, we will plot the venues on the map and color code them."
   ]
  },
  {
   "cell_type": "markdown",
   "metadata": {},
   "source": [
    "<img src=\"image2.jpeg\">"
   ]
  },
  {
   "attachments": {},
   "cell_type": "markdown",
   "metadata": {},
   "source": [
    "### Price\n",
    "\n",
    "We will now take a look the venues based on the price values. We have two price features for our venues, one is `average_price` which defines the average cost for one person and the other is `price_range` which determines the price range as defined by Zomato."
   ]
  },
  {
   "cell_type": "markdown",
   "metadata": {},
   "source": [
    "We will first explore the `average_price` using a scatter plot between the price and the count of venues with that average price. We'll size the points based on the price to highlight their price."
   ]
  },
  {
   "cell_type": "markdown",
   "metadata": {},
   "source": [
    "<img src=\"image3.jpg\">"
   ]
  },
  {
   "cell_type": "markdown",
   "metadata": {},
   "source": [
    ">From the plot above we can see that a large number of venues have an average price between Rs 400 and Rs 700"
   ]
  },
  {
   "cell_type": "markdown",
   "metadata": {},
   "source": [
    ">Users might also be interested in going to a place that fits in their budget. I'll use the `price_range` column to plot the venues on a map. We'll represent the venues with lower price in green and move towards red as the price increases."
   ]
  },
  {
   "cell_type": "markdown",
   "metadata": {},
   "source": [
    "## Results and Discussion <a name=\"results\"></a>\n",
    "\n",
    "Based on our analysis above, we can draw a number of conclusions that will be useful to aid any visitor visiting the city of Pune, India.\n",
    "\n",
    "After collecting data from the **Foursquare** and **Zomato** APIs, we got a list of 120 different venues. However, not all venues from the two APIs were identical. Hence, we had to inspect their latitude and longitude values as well as names to combine them and remove all the outliers. This resulted in a total venue count of 49.\n",
    "\n",
    "We identified that from the total set of venues, majority of them were **Cafes** and **Indian Restaurants**. A visitor who loves Cafes/Indian Restaurants would surely benefit from coming to Pune.\n",
    "\n",
    "While the complete range of ratings range from 1 to 5, the **majority venues have ratings close to 4**. This means that most restaurants provide **good quality food** which is liked by the people of the city, thus indicating the high rating. When we plot these venues on the map, we discover that there are clusters of venues around **Hinjewadi, Balewadi High Street and Baner**. These clusters also have very **high ratings (more than 3)**.\n",
    "\n",
    "When we take a look at the price values of each venue, we explore that **many venues** have prices which are in the **range of Rs 400 to Rs 700 for one person**. However, the variation in prices is very large, given the complete range starts from Rs 100 and goes uptil Rs 1200. On plotting the venues based on their price range on the map, we discovered that venues located near **Hinjewadi and Baner are relatively priced lower than venues in Balewadi High Street**. \n",
    "\n",
    "Finally, through clusters we identified that there are **many venues** which are **relatively lower priced but have an average rating of 3.57**. On the other hand, there are **few venues** which are **high priced and have average rating of 4.03**.\n",
    "\n",
    "1. If you're looking for cheap places with relatively high rating, you should check **Hinjewadi**.\n",
    "2. If you're looking for the best places, with the highest rating but might also carry a high price tag, you should visit **Baner** and **Balewadi High Street**.\n",
    "\n",
    "A company can use this information to build up an online website/mobile application, to provide users with up to date information about various venues in the city based on the search criteria (name, rating and price)."
   ]
  },
  {
   "cell_type": "markdown",
   "metadata": {},
   "source": [
    "## Conclusion <a name=\"conclusion\"></a>\n",
    "\n",
    "The purpose of this project was to explore the places that a person visiting Pune West could visit. The venues have been identified using Foursquare and Zomato API and have been plotted on the map. The map reveals that there are three major areas a person can visit: Hinjewadi, Baner & Balewadi High Street. Based on the visitor's venue rating and price requirements, he/she can choose amongst the three places."
   ]
  },
  {
   "cell_type": "code",
   "execution_count": null,
   "metadata": {},
   "outputs": [],
   "source": []
  }
 ],
 "metadata": {
  "kernelspec": {
   "display_name": "Python 3",
   "language": "python",
   "name": "python3"
  },
  "language_info": {
   "codemirror_mode": {
    "name": "ipython",
    "version": 3
   },
   "file_extension": ".py",
   "mimetype": "text/x-python",
   "name": "python",
   "nbconvert_exporter": "python",
   "pygments_lexer": "ipython3",
   "version": "3.7.4"
  }
 },
 "nbformat": 4,
 "nbformat_minor": 2
}
